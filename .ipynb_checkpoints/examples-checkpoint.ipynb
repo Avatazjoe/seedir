{
 "cells": [
  {
   "cell_type": "markdown",
   "metadata": {},
   "source": [
    "# Example Usage for [`seedir`](https://github.com/earnestt1234/seedir)\n",
    "\n",
    "`seedir` is a Python package for creating, editing, and reading folder tree\n",
    "diagrams.  The following examples will cover what you can do with `seedir`!\n",
    "\n",
    "We can start by importing the package with the `sd` alias:"
   ]
  },
  {
   "cell_type": "code",
   "execution_count": 2,
   "metadata": {},
   "outputs": [],
   "source": [
    "import seedir as sd"
   ]
  },
  {
   "cell_type": "markdown",
   "metadata": {},
   "source": [
    "## Creating Folder Trees\n",
    "\n",
    "The primary function of `seedir` is to create plain text diagrams of folders, for using in blogs, examples, Q&As, etc.  As an example, we will use the [GitHub directory for `seedir`](https://github.com/earnestt1234/seedir).  The fully exapanded directory looks (approximately!) like so after downloading:\n",
    "\n",
    "<p align=\"center\">\n",
    "\t<img src=\"img/exampledir.png\" width=\"300\">\n",
    "</p>\n",
    "\n",
    "To print out the structure of this folder, we can use the `seedir()` function.  You can either a) set your working directory as the folder you want to print or b) use the `path` argument.  I do the latter here:"
   ]
  },
  {
   "cell_type": "code",
   "execution_count": 3,
   "metadata": {},
   "outputs": [
    {
     "name": "stdout",
     "output_type": "stream",
     "text": [
      "seedir-master/\n",
      "├─.DS_Store\n",
      "├─LICENSE\n",
      "├─tests/\n",
      "│ ├─__init__.py\n",
      "│ └─tests.py\n",
      "├─MANIFEST.in\n",
      "├─pdoc_command.txt\n",
      "├─docs/\n",
      "│ ├─.DS_Store\n",
      "│ └─seedir/\n",
      "│   ├─seedir.html\n",
      "│   ├─index.html\n",
      "│   ├─.DS_Store\n",
      "│   ├─printing.html\n",
      "│   ├─fakedir.html\n",
      "│   └─errors.html\n",
      "├─README.md\n",
      "├─img/\n",
      "│ └─pun.jpg\n",
      "├─setup.py\n",
      "├─.gitignore\n",
      "├─stackoverflow.txt\n",
      "├─seedir/\n",
      "│ ├─.DS_Store\n",
      "│ ├─fakedir.py\n",
      "│ ├─command_line.py\n",
      "│ ├─__init__.py\n",
      "│ ├─seedir.py\n",
      "│ ├─__pycache__/\n",
      "│ │ ├─__init__.cpython-38.pyc\n",
      "│ │ ├─errors.cpython-38.pyc\n",
      "│ │ ├─printing.cpython-38.pyc\n",
      "│ │ ├─fakedir.cpython-38.pyc\n",
      "│ │ └─seedir.cpython-38.pyc\n",
      "│ ├─errors.py\n",
      "│ ├─words.txt\n",
      "│ └─printing.py\n",
      "└─.ipynb_checkpoints/\n",
      "  └─Untitled-checkpoint.ipynb\n"
     ]
    }
   ],
   "source": [
    "path = '/Users/earnestt1234/Downloads/seedir-master' #different for you\n",
    "sd.seedir(path)"
   ]
  },
  {
   "cell_type": "markdown",
   "metadata": {},
   "source": [
    "By default, **the output is printed**.  To return a string instead, use the `printout` argument:"
   ]
  },
  {
   "cell_type": "code",
   "execution_count": 4,
   "metadata": {},
   "outputs": [
    {
     "name": "stdout",
     "output_type": "stream",
     "text": [
      "<class 'str'>\n"
     ]
    }
   ],
   "source": [
    "s = sd.seedir(path, printout=False)\n",
    "print(type(s))"
   ]
  },
  {
   "cell_type": "markdown",
   "metadata": {},
   "source": [
    "There are several ways to trim this output.  One is to use the `depthlimit` or `itemlimit` arguments.  Respectively, these set how many folders deep the program progresses, or how many items we want to show in any given directory:"
   ]
  },
  {
   "cell_type": "code",
   "execution_count": 5,
   "metadata": {},
   "outputs": [
    {
     "data": {
      "text/plain": [
       "'seedir-master/\\n├─.DS_Store\\n├─LICENSE\\n├─tests/\\n│ ├─__init__.py\\n│ └─tests.py\\n├─MANIFEST.in\\n├─pdoc_command.txt\\n├─docs/\\n│ ├─.DS_Store\\n│ └─seedir/\\n│   ├─seedir.html\\n│   ├─index.html\\n│   ├─.DS_Store\\n│   ├─printing.html\\n│   ├─fakedir.html\\n│   └─errors.html\\n├─README.md\\n├─img/\\n│ └─pun.jpg\\n├─setup.py\\n├─.gitignore\\n├─stackoverflow.txt\\n├─seedir/\\n│ ├─.DS_Store\\n│ ├─fakedir.py\\n│ ├─command_line.py\\n│ ├─__init__.py\\n│ ├─seedir.py\\n│ ├─__pycache__/\\n│ │ ├─__init__.cpython-38.pyc\\n│ │ ├─errors.cpython-38.pyc\\n│ │ ├─printing.cpython-38.pyc\\n│ │ ├─fakedir.cpython-38.pyc\\n│ │ └─seedir.cpython-38.pyc\\n│ ├─errors.py\\n│ ├─words.txt\\n│ └─printing.py\\n└─.ipynb_checkpoints/\\n  └─Untitled-checkpoint.ipynb'"
      ]
     },
     "execution_count": 5,
     "metadata": {},
     "output_type": "execute_result"
    }
   ],
   "source": [
    "s"
   ]
  },
  {
   "cell_type": "code",
   "execution_count": null,
   "metadata": {},
   "outputs": [],
   "source": []
  }
 ],
 "metadata": {
  "kernelspec": {
   "display_name": "Python 3",
   "language": "python",
   "name": "python3"
  },
  "language_info": {
   "codemirror_mode": {
    "name": "ipython",
    "version": 3
   },
   "file_extension": ".py",
   "mimetype": "text/x-python",
   "name": "python",
   "nbconvert_exporter": "python",
   "pygments_lexer": "ipython3",
   "version": "3.8.3"
  }
 },
 "nbformat": 4,
 "nbformat_minor": 4
}
