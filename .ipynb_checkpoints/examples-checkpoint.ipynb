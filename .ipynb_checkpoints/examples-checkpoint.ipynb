{
 "cells": [
  {
   "cell_type": "markdown",
   "metadata": {},
   "source": [
    "# Example usage for [`seedir`](https://github.com/earnestt1234/seedir)\n",
    "\n",
    "`seedir` is a Python package for creating, editing, and reading folder tree\n",
    "diagrams.  The following examples will cover what you can do with `seedir`!\n",
    "\n",
    "We can start by importing the package with the `sd` alias:"
   ]
  },
  {
   "cell_type": "code",
   "execution_count": 7,
   "metadata": {},
   "outputs": [],
   "source": [
    "import seedir as sd"
   ]
  },
  {
   "cell_type": "markdown",
   "metadata": {},
   "source": [
    "## Creating folder trees\n",
    "\n",
    "The primary function of `seedir` is to create plain text diagrams of folders, for use in blogs, examples, Q&As, etc.  In this example, I will use the [GitHub directory for `seedir`](https://github.com/earnestt1234/seedir).\n",
    "\n",
    "### A general folder tree\n",
    "\n",
    "To print out the structure of this folder, you can use the `seedir()` function (i.e., `seedir.seedir()`).  You can either a) set your working directory as the folder you want to print or b) use the `path` argument.  I do the latter here:"
   ]
  },
  {
   "cell_type": "code",
   "execution_count": 8,
   "metadata": {
    "scrolled": false
   },
   "outputs": [
    {
     "name": "stdout",
     "output_type": "stream",
     "text": [
      "seedir-master/\n",
      "├─.DS_Store\n",
      "├─LICENSE\n",
      "├─tests/\n",
      "│ ├─__init__.py\n",
      "│ └─tests.py\n",
      "├─MANIFEST.in\n",
      "├─pdoc_command.txt\n",
      "├─docs/\n",
      "│ └─seedir/\n",
      "│   ├─seedir.html\n",
      "│   ├─index.html\n",
      "│   ├─printing.html\n",
      "│   ├─fakedir.html\n",
      "│   └─errors.html\n",
      "├─README.md\n",
      "├─img/\n",
      "│ ├─seedir_diagram.pptx\n",
      "│ ├─exampledir.png\n",
      "│ ├─pun.jpg\n",
      "│ └─seedir_diagram.png\n",
      "├─setup.py\n",
      "├─.gitignore\n",
      "├─stackoverflow.txt\n",
      "├─examples.ipynb\n",
      "├─.gitattributes\n",
      "├─seedir/\n",
      "│ ├─.DS_Store\n",
      "│ ├─fakedir.py\n",
      "│ ├─command_line.py\n",
      "│ ├─__init__.py\n",
      "│ ├─seedir.py\n",
      "│ ├─errors.py\n",
      "│ ├─words.txt\n",
      "│ └─printing.py\n",
      "└─.ipynb_checkpoints/\n",
      "  └─examples-checkpoint.ipynb\n"
     ]
    }
   ],
   "source": [
    "path = \"/Users/earnestt1234/Downloads/seedir-master\" #different for you\n",
    "sd.seedir(path)"
   ]
  },
  {
   "cell_type": "markdown",
   "metadata": {},
   "source": [
    "By default, **the output is printed**.  To return a string instead, use the `printout` argument:"
   ]
  },
  {
   "cell_type": "code",
   "execution_count": 9,
   "metadata": {},
   "outputs": [
    {
     "name": "stdout",
     "output_type": "stream",
     "text": [
      "<class 'str'>\n"
     ]
    }
   ],
   "source": [
    "s = sd.seedir(path, printout=False)\n",
    "print(type(s))"
   ]
  },
  {
   "cell_type": "markdown",
   "metadata": {},
   "source": [
    "## Trimming folder trees\n",
    "\n",
    "The example above is a rather long folder tree.  What if we want to limit the amount or types of files or folders that are included?\n",
    "\n",
    "### Including & exlcuding folders & files\n",
    "\n",
    "There are several ways to do this with `seedir()`.  One way is to call out specific folders or files you want to include or exclude.  For example, excluding some folders:"
   ]
  },
  {
   "cell_type": "code",
   "execution_count": 10,
   "metadata": {
    "scrolled": false
   },
   "outputs": [
    {
     "name": "stdout",
     "output_type": "stream",
     "text": [
      "seedir-master/\n",
      "├─.DS_Store\n",
      "├─LICENSE\n",
      "├─MANIFEST.in\n",
      "├─pdoc_command.txt\n",
      "├─README.md\n",
      "├─setup.py\n",
      "├─.gitignore\n",
      "├─stackoverflow.txt\n",
      "├─examples.ipynb\n",
      "├─.gitattributes\n",
      "├─seedir/\n",
      "│ ├─.DS_Store\n",
      "│ ├─fakedir.py\n",
      "│ ├─command_line.py\n",
      "│ ├─__init__.py\n",
      "│ ├─seedir.py\n",
      "│ ├─errors.py\n",
      "│ ├─words.txt\n",
      "│ └─printing.py\n",
      "└─.ipynb_checkpoints/\n",
      "  └─examples-checkpoint.ipynb\n"
     ]
    }
   ],
   "source": [
    "sd.seedir(path, exclude_folders=['docs', 'tests','img','__pycache__'])"
   ]
  },
  {
   "cell_type": "markdown",
   "metadata": {},
   "source": [
    "Or using regular expressions, you can tell `seedir()` to only incude Python files:"
   ]
  },
  {
   "cell_type": "code",
   "execution_count": 11,
   "metadata": {},
   "outputs": [
    {
     "name": "stdout",
     "output_type": "stream",
     "text": [
      "seedir-master/\n",
      "├─tests/\n",
      "│ ├─__init__.py\n",
      "│ └─tests.py\n",
      "├─docs/\n",
      "│ └─seedir/\n",
      "├─img/\n",
      "├─setup.py\n",
      "├─seedir/\n",
      "│ ├─fakedir.py\n",
      "│ ├─command_line.py\n",
      "│ ├─__init__.py\n",
      "│ ├─seedir.py\n",
      "│ ├─errors.py\n",
      "│ └─printing.py\n",
      "└─.ipynb_checkpoints/\n"
     ]
    }
   ],
   "source": [
    "sd.seedir(path, include_files='.*\\.py$', regex=True) # anything followed by .py at end"
   ]
  },
  {
   "cell_type": "markdown",
   "metadata": {},
   "source": [
    "### Masking\n",
    "\n",
    "You can also use the `mask` parameter to functionally filter out items in the folder.  Pathnames are passed to the mask function, and items are kept if `True` is returned:"
   ]
  },
  {
   "cell_type": "code",
   "execution_count": 36,
   "metadata": {},
   "outputs": [
    {
     "name": "stdout",
     "output_type": "stream",
     "text": [
      "seedir-master/\n",
      "├─.DS_Store\n",
      "├─LICENSE\n",
      "├─tests/\n",
      "│ ├─__init__.py\n",
      "│ └─tests.py\n",
      "├─MANIFEST.in\n",
      "├─pdoc_command.txt\n",
      "├─docs/\n",
      "├─README.md\n",
      "├─setup.py\n",
      "├─.gitignore\n",
      "├─stackoverflow.txt\n",
      "├─examples.ipynb\n",
      "├─.gitattributes\n",
      "└─.ipynb_checkpoints/\n",
      "  └─examples-checkpoint.ipynb\n"
     ]
    }
   ],
   "source": [
    "import os\n",
    "\n",
    "# skip all folders with more than 2 items\n",
    "def foo(x):\n",
    "    if os.path.isdir(x) and len(os.listdir(x)) > 2:\n",
    "        return False\n",
    "    return True\n",
    "\n",
    "sd.seedir(path, mask=foo)"
   ]
  },
  {
   "cell_type": "markdown",
   "metadata": {},
   "source": [
    "### Limiting the depth or number of items\n",
    "\n",
    "You can also wholly limit the function by providing the `depthlimit` or `itemlimit` arguments.  Respectively, these arguments limit the depth of folders to enter and the number of items to include per folder.  \n",
    "\n",
    "As `seedir()` uses recursion, these arguments can hedge the traversal of deep, complicated folders:"
   ]
  },
  {
   "cell_type": "code",
   "execution_count": 12,
   "metadata": {},
   "outputs": [
    {
     "name": "stdout",
     "output_type": "stream",
     "text": [
      "seedir-master/\n",
      "├─.DS_Store\n",
      "├─LICENSE\n",
      "├─tests/\n",
      "├─MANIFEST.in\n",
      "├─pdoc_command.txt\n",
      "├─docs/\n",
      "├─README.md\n",
      "├─img/\n",
      "├─setup.py\n",
      "├─.gitignore\n",
      "├─stackoverflow.txt\n",
      "├─examples.ipynb\n",
      "├─.gitattributes\n",
      "├─seedir/\n",
      "└─.ipynb_checkpoints/\n",
      "\n",
      "\n",
      "seedir-master/\n",
      "├─.DS_Store\n",
      "├─LICENSE\n",
      "├─tests/\n",
      "│ ├─__init__.py\n",
      "│ └─tests.py\n",
      "├─MANIFEST.in\n",
      "└─pdoc_command.txt\n"
     ]
    }
   ],
   "source": [
    "sd.seedir(path, depthlimit=1) # only enter 1 folder\n",
    "print('\\n')\n",
    "sd.seedir(path, itemlimit=5) # only show 5 items per directory"
   ]
  },
  {
   "cell_type": "markdown",
   "metadata": {},
   "source": [
    "When limiting the tree, using the `beyond` argument can be helpful to show what is being cut.  The special value `'content'` shows the number of folders and files:"
   ]
  },
  {
   "cell_type": "code",
   "execution_count": 13,
   "metadata": {},
   "outputs": [
    {
     "name": "stdout",
     "output_type": "stream",
     "text": [
      "seedir-master/\n",
      "├─.DS_Store\n",
      "├─LICENSE\n",
      "├─tests/\n",
      "│ └─0 folder(s), 2 file(s)\n",
      "├─MANIFEST.in\n",
      "├─pdoc_command.txt\n",
      "├─docs/\n",
      "│ └─1 folder(s), 0 file(s)\n",
      "├─README.md\n",
      "├─img/\n",
      "│ └─0 folder(s), 4 file(s)\n",
      "├─setup.py\n",
      "├─.gitignore\n",
      "├─stackoverflow.txt\n",
      "├─examples.ipynb\n",
      "├─.gitattributes\n",
      "├─seedir/\n",
      "│ └─0 folder(s), 8 file(s)\n",
      "└─.ipynb_checkpoints/\n",
      "  └─0 folder(s), 1 file(s)\n"
     ]
    }
   ],
   "source": [
    "sd.seedir(path, depthlimit=1, beyond='content')"
   ]
  },
  {
   "cell_type": "markdown",
   "metadata": {},
   "source": [
    "### Sorting\n",
    "\n",
    "Especially when using the `itemlimit`, but also generally, you may want to sort the output to determine which items appear first.  You can apply a general sort using `sort=True`:"
   ]
  },
  {
   "cell_type": "code",
   "execution_count": 14,
   "metadata": {},
   "outputs": [
    {
     "name": "stdout",
     "output_type": "stream",
     "text": [
      "seedir-master/\n",
      "├─.DS_Store\n",
      "├─.gitattributes\n",
      "├─.gitignore\n",
      "├─.ipynb_checkpoints/\n",
      "│ └─examples-checkpoint.ipynb\n",
      "└─LICENSE\n"
     ]
    }
   ],
   "source": [
    "sd.seedir(path, itemlimit=5, sort=True)"
   ]
  },
  {
   "cell_type": "markdown",
   "metadata": {},
   "source": [
    "There are additional reverse and key arguments (akin to `sorted()` or `list.sort()`) which allow you to customize the sorting:"
   ]
  },
  {
   "cell_type": "code",
   "execution_count": 15,
   "metadata": {},
   "outputs": [
    {
     "name": "stdout",
     "output_type": "stream",
     "text": [
      "seedir-master/\n",
      "├─img/\n",
      "│ ├─pun.jpg\n",
      "│ ├─exampledir.png\n",
      "│ ├─seedir_diagram.png\n",
      "│ └─seedir_diagram.pptx\n",
      "├─docs/\n",
      "│ └─seedir/\n",
      "│   ├─index.html\n",
      "│   ├─seedir.html\n",
      "│   ├─errors.html\n",
      "│   ├─fakedir.html\n",
      "│   └─printing.html\n",
      "├─tests/\n",
      "│ ├─tests.py\n",
      "│ └─__init__.py\n",
      "├─seedir/\n",
      "│ ├─.DS_Store\n",
      "│ ├─seedir.py\n",
      "│ ├─errors.py\n",
      "│ ├─words.txt\n",
      "│ └─fakedir.py\n",
      "└─LICENSE\n"
     ]
    }
   ],
   "source": [
    "sd.seedir(path, itemlimit=5, sort=True, sort_reverse=False, sort_key=lambda s : len(s)) #shortest names first"
   ]
  },
  {
   "cell_type": "markdown",
   "metadata": {},
   "source": [
    "You can also select folders or files to appear first:"
   ]
  },
  {
   "cell_type": "code",
   "execution_count": 16,
   "metadata": {},
   "outputs": [
    {
     "name": "stdout",
     "output_type": "stream",
     "text": [
      "seedir-master/\n",
      "├─.ipynb_checkpoints/\n",
      "│ └─examples-checkpoint.ipynb\n",
      "├─docs/\n",
      "│ └─seedir/\n",
      "│   ├─errors.html\n",
      "│   ├─fakedir.html\n",
      "│   ├─index.html\n",
      "│   ├─printing.html\n",
      "│   └─seedir.html\n",
      "├─img/\n",
      "│ ├─exampledir.png\n",
      "│ ├─pun.jpg\n",
      "│ ├─seedir_diagram.png\n",
      "│ └─seedir_diagram.pptx\n",
      "├─seedir/\n",
      "│ ├─__init__.py\n",
      "│ ├─command_line.py\n",
      "│ ├─errors.py\n",
      "│ ├─fakedir.py\n",
      "│ ├─printing.py\n",
      "│ ├─seedir.py\n",
      "│ └─words.txt\n",
      "├─tests/\n",
      "│ ├─__init__.py\n",
      "│ └─tests.py\n",
      "├─LICENSE\n",
      "└─MANIFEST.in\n"
     ]
    }
   ],
   "source": [
    "sd.seedir(path, itemlimit=7, first='folders', sort=True, exclude_files='^\\..*', regex=True)\n",
    "# excluded files starting with a period"
   ]
  },
  {
   "cell_type": "markdown",
   "metadata": {},
   "source": [
    "### Styles 💅\n",
    "\n",
    "`seedir` has a few builtin styles for formatting the output of the folder tree.  See the documentation for the current options:"
   ]
  },
  {
   "cell_type": "code",
   "execution_count": 17,
   "metadata": {},
   "outputs": [
    {
     "name": "stdout",
     "output_type": "stream",
     "text": [
      "📁 seedir-master/\n",
      "├─📄 .DS_Store\n",
      "├─📄 LICENSE\n",
      "├─📁 tests/\n",
      "│ ├─📄 __init__.py\n",
      "│ └─📄 tests.py\n",
      "├─📄 MANIFEST.in\n",
      "└─📄 pdoc_command.txt\n"
     ]
    }
   ],
   "source": [
    "sd.seedir(path, itemlimit=5, style='emoji')"
   ]
  },
  {
   "cell_type": "markdown",
   "metadata": {},
   "source": [
    "For any builtin style, you can customize the indent size:"
   ]
  },
  {
   "cell_type": "code",
   "execution_count": 18,
   "metadata": {},
   "outputs": [
    {
     "name": "stdout",
     "output_type": "stream",
     "text": [
      "seedir-master/\n",
      "    .DS_Store\n",
      "    LICENSE\n",
      "    tests/\n",
      "        __init__.py\n",
      "        tests.py\n",
      "    MANIFEST.in\n",
      "    pdoc_command.txt\n",
      "\n",
      "\n",
      "seedir-master/\n",
      "+-----.DS_Store\n",
      "+-----LICENSE\n",
      "+-----tests/\n",
      "|     +-----__init__.py\n",
      "|     +-----tests.py\n",
      "+-----MANIFEST.in\n",
      "+-----pdoc_command.txt\n"
     ]
    }
   ],
   "source": [
    "sd.seedir(path, indent=4, itemlimit=5, style='spaces')\n",
    "print('\\n')\n",
    "sd.seedir(path, indent=6, itemlimit=5, style='plus')"
   ]
  },
  {
   "cell_type": "markdown",
   "metadata": {},
   "source": [
    "Each style is basically a collection of string \"tokens\" which are combined to form the header of each printed line (based on the depth and folder structure).  You can see these tokens using `seedir.get_styleargs()`:"
   ]
  },
  {
   "cell_type": "code",
   "execution_count": 19,
   "metadata": {},
   "outputs": [
    {
     "data": {
      "text/plain": [
       "{'split': '├─',\n",
       " 'extend': '│ ',\n",
       " 'space': '  ',\n",
       " 'final': '└─',\n",
       " 'folderstart': '📁 ',\n",
       " 'filestart': '📄 '}"
      ]
     },
     "execution_count": 19,
     "metadata": {},
     "output_type": "execute_result"
    }
   ],
   "source": [
    "sd.get_styleargs('emoji')"
   ]
  },
  {
   "cell_type": "markdown",
   "metadata": {},
   "source": [
    "You can pass any of these tokens as `**kwargs` to explicitly customize styles with new symbols (note that passed tokens will not be affected by the `indent` parameter; it assumes you know how long you want them to be!):"
   ]
  },
  {
   "cell_type": "code",
   "execution_count": 20,
   "metadata": {},
   "outputs": [
    {
     "name": "stdout",
     "output_type": "stream",
     "text": [
      "seedir-master/\n",
      "-} .DS_Store\n",
      "-} LICENSE\n",
      "-} tests/\n",
      "||-} __init__.py\n",
      "||\\\\ tests.py\n",
      "-} MANIFEST.in\n",
      "-} pdoc_command.txt\n",
      "-} docs/\n",
      "||\\\\ seedir/\n",
      "||  -} seedir.html\n",
      "||  -} index.html\n",
      "||  -} printing.html\n",
      "||  -} fakedir.html\n",
      "||  \\\\ errors.html\n",
      "\\\\ README.md\n"
     ]
    }
   ],
   "source": [
    "sd.seedir(path, itemlimit=7, space='  ', extend='||', split='-}', final='\\\\\\\\', folderstart=' ', filestart=' ')"
   ]
  },
  {
   "cell_type": "markdown",
   "metadata": {},
   "source": [
    "There are also `uniform` and `anystart` arguments for customizing multiple tokens at once:"
   ]
  },
  {
   "cell_type": "code",
   "execution_count": 21,
   "metadata": {
    "scrolled": false
   },
   "outputs": [
    {
     "name": "stdout",
     "output_type": "stream",
     "text": [
      ">seedir-master/\n",
      "---->.DS_Store\n",
      "---->LICENSE\n",
      "---->tests/\n",
      "-------->__init__.py\n",
      "-------->tests.py\n",
      "---->MANIFEST.in\n",
      "---->pdoc_command.txt\n",
      "---->docs/\n",
      "-------->seedir/\n",
      "------------>seedir.html\n",
      "------------>index.html\n",
      "------------>printing.html\n",
      "------------>fakedir.html\n",
      "------------>errors.html\n",
      "---->README.md\n"
     ]
    }
   ],
   "source": [
    "sd.seedir(path, itemlimit=7, uniform='----', anystart='>')"
   ]
  },
  {
   "cell_type": "markdown",
   "metadata": {},
   "source": [
    "## Fake directories\n",
    "\n",
    "You can also create or edit directory examples by using \"fake directories\" in `seedir`.  These are Python representations of folders and files, which can be manipulated in ways similar to real directories."
   ]
  },
  {
   "cell_type": "markdown",
   "metadata": {},
   "source": [
    "### Making from scratch\n",
    "\n",
    "`seedir.FakeDir` is a folder class; you can be used to initialize an example folder tree.  `FakeDir` objects have a `seedir()` method, which is fundamentally similar to `seedir.seedir()` for real system paths:"
   ]
  },
  {
   "cell_type": "code",
   "execution_count": 22,
   "metadata": {},
   "outputs": [
    {
     "name": "stdout",
     "output_type": "stream",
     "text": [
      "myfakedir/\n"
     ]
    }
   ],
   "source": [
    "x = sd.FakeDir('myfakedir')\n",
    "x.seedir()"
   ]
  },
  {
   "cell_type": "markdown",
   "metadata": {},
   "source": [
    "To add items to `x`, you can create subitems, initialize new directories, or move existing ones:"
   ]
  },
  {
   "cell_type": "code",
   "execution_count": 23,
   "metadata": {},
   "outputs": [
    {
     "name": "stdout",
     "output_type": "stream",
     "text": [
      "myfakedir/\n",
      "├─docs/\n",
      "├─resources/\n",
      "│ └─images/\n",
      "│   ├─a.png\n",
      "│   ├─b.png\n",
      "│   └─c.png\n",
      "├─__init__.py\n",
      "├─main.py\n",
      "└─styles.txt\n"
     ]
    }
   ],
   "source": [
    "x.create_file(['__init__.py', 'main.py', 'styles.txt'])\n",
    "x.create_folder('docs')\n",
    "\n",
    "y = sd.FakeDir('resources', parent=x)\n",
    "\n",
    "z = sd.FakeDir('images')\n",
    "z.parent = y\n",
    "\n",
    "for n in ['a', 'b', 'c']:\n",
    "    z.create_file(n + '.png')\n",
    "\n",
    "x.seedir(sort=True, first='folders')"
   ]
  },
  {
   "cell_type": "markdown",
   "metadata": {},
   "source": [
    "You can use path-like strings to index fake directories:"
   ]
  },
  {
   "cell_type": "code",
   "execution_count": 24,
   "metadata": {},
   "outputs": [
    {
     "data": {
      "text/plain": [
       "FakeFile(myfakedir/resources/images/a.png)"
      ]
     },
     "execution_count": 24,
     "metadata": {},
     "output_type": "execute_result"
    }
   ],
   "source": [
    "x['resources/images/a.png']"
   ]
  },
  {
   "cell_type": "markdown",
   "metadata": {},
   "source": [
    "You can also use the `listdir` or `get_child_names` methods to get the children of a folder (or their names):"
   ]
  },
  {
   "cell_type": "code",
   "execution_count": 25,
   "metadata": {},
   "outputs": [
    {
     "name": "stdout",
     "output_type": "stream",
     "text": [
      "[FakeFile(myfakedir/resources/images/a.png), FakeFile(myfakedir/resources/images/b.png), FakeFile(myfakedir/resources/images/c.png)]\n",
      "['a.png', 'b.png', 'c.png']\n"
     ]
    }
   ],
   "source": [
    "print(x['resources/images'].listdir())\n",
    "print(x['resources/images'].get_child_names())"
   ]
  },
  {
   "cell_type": "markdown",
   "metadata": {},
   "source": [
    "You can use the `delete` method to remove items by name or by object:"
   ]
  },
  {
   "cell_type": "code",
   "execution_count": 26,
   "metadata": {},
   "outputs": [
    {
     "name": "stdout",
     "output_type": "stream",
     "text": [
      "myfakedir/\n",
      "├─__init__.py\n",
      "├─main.py\n",
      "├─styles.txt\n",
      "├─docs/\n",
      "└─resources/\n",
      "  └─images/\n",
      "    └─c.png\n"
     ]
    }
   ],
   "source": [
    "x['resources/images'].delete([x['resources/images/a.png'], 'b.png'])\n",
    "x.seedir()"
   ]
  },
  {
   "cell_type": "markdown",
   "metadata": {},
   "source": [
    "You can also move items within the tree:"
   ]
  },
  {
   "cell_type": "code",
   "execution_count": 27,
   "metadata": {},
   "outputs": [
    {
     "name": "stdout",
     "output_type": "stream",
     "text": [
      "myfakedir/\n",
      "├─__init__.py\n",
      "├─main.py\n",
      "├─docs/\n",
      "└─resources/\n",
      "  ├─images/\n",
      "  │ └─c.png\n",
      "  └─styles.txt\n"
     ]
    }
   ],
   "source": [
    "x['styles.txt'].parent = x['resources']\n",
    "x.seedir()"
   ]
  },
  {
   "cell_type": "markdown",
   "metadata": {},
   "source": [
    "### Turn existing directories into fakes\n",
    "\n",
    "The `seedir.fakedir()` function allows you to convert real directories into `seedir.FakeDir` objects."
   ]
  },
  {
   "cell_type": "code",
   "execution_count": 28,
   "metadata": {},
   "outputs": [
    {
     "name": "stdout",
     "output_type": "stream",
     "text": [
      "seedir/\n",
      "├─.DS_Store\n",
      "├─fakedir.py\n",
      "├─command_line.py\n",
      "├─__init__.py\n",
      "├─seedir.py\n",
      "├─errors.py\n",
      "├─words.txt\n",
      "└─printing.py\n",
      "\n",
      " <class 'seedir.fakedir.FakeDir'>\n"
     ]
    }
   ],
   "source": [
    "import os\n",
    "\n",
    "subpath = os.path.join(path, 'seedir') # selecting a subfolder to load\n",
    "f = sd.fakedir(subpath) \n",
    "\n",
    "f.seedir()\n",
    "print('\\n', type(f))"
   ]
  },
  {
   "cell_type": "markdown",
   "metadata": {},
   "source": [
    "Similar to `seedir.seedir()`, `seedir.fakedir()` has options to limit the incoming folders and files:"
   ]
  },
  {
   "cell_type": "code",
   "execution_count": 29,
   "metadata": {
    "scrolled": false
   },
   "outputs": [
    {
     "name": "stdout",
     "output_type": "stream",
     "text": [
      "seedir/\n",
      "├─fakedir.py\n",
      "├─command_line.py\n",
      "├─__init__.py\n",
      "├─seedir.py\n",
      "├─errors.py\n",
      "├─words.txt\n",
      "└─printing.py\n"
     ]
    }
   ],
   "source": [
    "f = sd.fakedir(subpath, exclude_folders='__pycache__', exclude_files='.DS_Store') \n",
    "f.seedir()"
   ]
  },
  {
   "cell_type": "markdown",
   "metadata": {},
   "source": [
    "Fake directories created from your system directories can be combined with other ones created from scratch:"
   ]
  },
  {
   "cell_type": "code",
   "execution_count": 30,
   "metadata": {},
   "outputs": [
    {
     "name": "stdout",
     "output_type": "stream",
     "text": [
      "myfakedir/\n",
      "├─__init__.py\n",
      "├─main.py\n",
      "├─docs/\n",
      "├─resources/\n",
      "│ ├─images/\n",
      "│ │ └─c.png\n",
      "│ └─styles.txt\n",
      "└─seedir/\n",
      "  ├─fakedir.py\n",
      "  ├─command_line.py\n",
      "  ├─__init__.py\n",
      "  ├─seedir.py\n",
      "  ├─errors.py\n",
      "  ├─words.txt\n",
      "  └─printing.py\n"
     ]
    }
   ],
   "source": [
    "f.parent = x\n",
    "x.seedir()"
   ]
  },
  {
   "cell_type": "markdown",
   "metadata": {},
   "source": [
    "### Creating folder trees from text\n",
    "\n",
    "The `seedir.fakedir_fromstring()` method allows you to read in existing folder tree diagrams.  Given this:\n",
    "\n",
    "```\n",
    "seedir/\n",
    "├─fakedir.py\n",
    "├─command_line.py\n",
    "├─__init__.py\n",
    "├─seedir.py\n",
    "├─errors.py\n",
    "├─words.txt\n",
    "└─printing.py\n",
    "```\n",
    "You can do:"
   ]
  },
  {
   "cell_type": "code",
   "execution_count": 31,
   "metadata": {},
   "outputs": [
    {
     "name": "stdout",
     "output_type": "stream",
     "text": [
      "seedir/\n",
      "├─fakedir.py\n",
      "├─command_line.py\n",
      "├─__init__.py\n",
      "├─seedir.py\n",
      "├─errors.py\n",
      "├─words.txt\n",
      "└─printing.py\n"
     ]
    }
   ],
   "source": [
    "s = \"\"\"seedir/ \n",
    "├─fakedir.py\n",
    "├─command_line.py\n",
    "├─__init__.py\n",
    "├─seedir.py\n",
    "├─errors.py\n",
    "├─words.txt\n",
    "└─printing.py\"\"\" # copy/pasted\n",
    "\n",
    "g = sd.fakedir_fromstring(s)\n",
    "g.seedir()"
   ]
  },
  {
   "cell_type": "markdown",
   "metadata": {},
   "source": [
    "This has worked for many folder trees I have encountered in Python tutorials:"
   ]
  },
  {
   "cell_type": "code",
   "execution_count": 32,
   "metadata": {},
   "outputs": [
    {
     "name": "stdout",
     "output_type": "stream",
     "text": [
      "📁 test/\n",
      "├─📁 packA/\n",
      "│ ├─📁 subA/\n",
      "│ │ ├─📄 __init__.py\n",
      "│ │ ├─📄 sa1.py\n",
      "│ │ └─📄 sa2.py\n",
      "│ ├─📄 __init__.py\n",
      "│ ├─📄 a1.py\n",
      "│ └─📄 a2.py\n",
      "├─📁 packB/\n",
      "│ ├─📄 b1.py\n",
      "│ └─📄 b2.py\n",
      "├─📄 math.py\n",
      "├─📄 random.py\n",
      "├─📄 other.py\n",
      "└─📄 start.py\n"
     ]
    }
   ],
   "source": [
    "# from https://chrisyeh96.github.io/2017/08/08/definitive-guide-python-imports.html\n",
    "\n",
    "s = '''test/                      # root folder\n",
    "    packA/                 # package packA\n",
    "        subA/              # subpackage subA\n",
    "            __init__.py\n",
    "            sa1.py\n",
    "            sa2.py\n",
    "        __init__.py\n",
    "        a1.py\n",
    "        a2.py\n",
    "    packB/                 # package packB (implicit namespace package)\n",
    "        b1.py\n",
    "        b2.py\n",
    "    math.py\n",
    "    random.py\n",
    "    other.py\n",
    "    start.py'''\n",
    "\n",
    "h = sd.fakedir_fromstring(s, parse_comments=True) # handling the added comments\n",
    "h.seedir(style='emoji')"
   ]
  },
  {
   "cell_type": "markdown",
   "metadata": {},
   "source": [
    "### Creating random directories\n",
    "\n",
    "You can also use `seedir` to create randomly generated directories."
   ]
  },
  {
   "cell_type": "code",
   "execution_count": 33,
   "metadata": {},
   "outputs": [
    {
     "name": "stdout",
     "output_type": "stream",
     "text": [
      "MyFakeDir/\n",
      "├─plethora.pdf\n",
      "├─randy.jpg\n",
      "├─giddap.pdf\n",
      "├─adage/\n",
      "└─Gobi/\n",
      "  ├─finch.jpg\n",
      "  ├─Poisson.jpg\n",
      "  ├─toil/\n",
      "  │ ├─Dowling.jpg\n",
      "  │ └─Hanover/\n",
      "  └─programmer/\n"
     ]
    }
   ],
   "source": [
    "r = sd.randomdir(seed=4.21, extensions=['png', 'jpg', 'pdf'])\n",
    "r.seedir()"
   ]
  },
  {
   "cell_type": "markdown",
   "metadata": {},
   "source": [
    "Additional parameters dictate the size of the tree created:"
   ]
  },
  {
   "cell_type": "code",
   "execution_count": 34,
   "metadata": {
    "scrolled": false
   },
   "outputs": [
    {
     "name": "stdout",
     "output_type": "stream",
     "text": [
      "MyFakeDir/\n",
      "├─mack/\n",
      "│ ├─buss.jpg\n",
      "│ ├─mandatory.png\n",
      "│ ├─perky.png\n",
      "│ ├─Natchez.png\n",
      "│ ├─euphorbia/\n",
      "│ │ ├─mellow.png\n",
      "│ │ ├─thimble.pdf\n",
      "│ │ ├─transfusion/\n",
      "│ │ │ ├─econometric.png\n",
      "│ │ │ ├─centroid.pdf\n",
      "│ │ │ ├─land.pdf\n",
      "│ │ │ ├─singlehanded/\n",
      "│ │ │ └─cathode/\n",
      "│ │ │   ├─Bellatrix.jpg\n",
      "│ │ │   ├─prevention.pdf\n",
      "│ │ │   ├─crib/\n",
      "│ │ │   │ ├─Linus.png\n",
      "│ │ │   │ ├─judicature.jpg\n",
      "│ │ │   │ ├─Inman/\n",
      "│ │ │   │ └─settle/\n",
      "│ │ │   └─tenant/\n",
      "│ │ │     ├─candid.pdf\n",
      "│ │ │     ├─scoff.pdf\n",
      "│ │ │     ├─inflorescent.pdf\n",
      "│ │ │     ├─Lombardy.pdf\n",
      "│ │ │     ├─funky/\n",
      "│ │ │     └─commonwealth/\n",
      "│ │ └─tungsten/\n",
      "│ │   ├─pyroelectric.jpg\n",
      "│ │   ├─majestic.pdf\n",
      "│ │   └─postlude/\n",
      "│ │     ├─circumstantial.pdf\n",
      "│ │     ├─radiochemical.png\n",
      "│ │     ├─allmsgs.pdf\n",
      "│ │     └─inactive/\n",
      "│ │       └─Shaffer/\n",
      "│ └─hawk/\n",
      "└─preclude/\n",
      "  ├─autocorrelate.png\n",
      "  ├─tab/\n",
      "  │ └─inroad/\n",
      "  └─headstand/\n",
      "    ├─chivalry.pdf\n",
      "    ├─astronomer.png\n",
      "    ├─stoic.jpg\n",
      "    ├─boy/\n",
      "    │ ├─RCA.pdf\n",
      "    │ ├─mastic.png\n",
      "    │ ├─acrobatic.jpg\n",
      "    │ ├─placid.pdf\n",
      "    │ └─sunglasses/\n",
      "    │   ├─generic.pdf\n",
      "    │   ├─Berniece.png\n",
      "    │   ├─lugging.png\n",
      "    │   ├─Burgundian.jpg\n",
      "    │   ├─Dutton/\n",
      "    │   │ ├─shako.jpg\n",
      "    │   │ ├─smooth.jpg\n",
      "    │   │ ├─Fatima.png\n",
      "    │   │ ├─escalate.png\n",
      "    │   │ └─Bangor/\n",
      "    │   └─dosimeter/\n",
      "    │     ├─servo.png\n",
      "    │     ├─cubbyhole.jpg\n",
      "    │     ├─VT.jpg\n",
      "    │     ├─atrocious.png\n",
      "    │     └─student/\n",
      "    └─snowflake/\n",
      "      ├─inapt.png\n",
      "      ├─loy.png\n",
      "      └─cassock/\n"
     ]
    }
   ],
   "source": [
    "# making an unnecessarily long tree\n",
    "tree = ''\n",
    "while len(tree) < 500:\n",
    "    tree = sd.randomdir(files=range(5),\n",
    "                        folders=[1,2],\n",
    "                        stopchance=.3,\n",
    "                        depth=5,\n",
    "                        extensions=['png', 'jpg', 'pdf']).seedir(printout=False)\n",
    "print(tree)"
   ]
  },
  {
   "cell_type": "markdown",
   "metadata": {},
   "source": [
    "### Turning fake directories into real ones\n",
    "\n",
    "Finally, there is a `realize()` method which can covert fake directories into real folders on your computer.\n",
    "\n",
    "```\n",
    "x = sd.randomdir()\n",
    "x.realize(path='where/to/create/it/')\n",
    "```\n",
    "\n",
    "All files created will be empty."
   ]
  },
  {
   "cell_type": "markdown",
   "metadata": {},
   "source": [
    "# Cheatsheet"
   ]
  },
  {
   "cell_type": "code",
   "execution_count": 35,
   "metadata": {},
   "outputs": [
    {
     "data": {
      "image/png": "[encoded data removed]",
      "text/plain": [
       "<PIL.PngImagePlugin.PngImageFile image mode=P size=1337x1049 at 0x7FD22BBC44C0>"
      ]
     },
     "metadata": {},
     "output_type": "display_data"
    }
   ],
   "source": [
    "from PIL import Image\n",
    "\n",
    "img = Image.open('img/seedir_diagram.png')\n",
    "display(img)"
   ]
  }
 ],
 "metadata": {
  "kernelspec": {
   "display_name": "Python 3",
   "language": "python",
   "name": "python3"
  },
  "language_info": {
   "codemirror_mode": {
    "name": "ipython",
    "version": 3
   },
   "file_extension": ".py",
   "mimetype": "text/x-python",
   "name": "python",
   "nbconvert_exporter": "python",
   "pygments_lexer": "ipython3",
   "version": "3.8.3"
  }
 },
 "nbformat": 4,
 "nbformat_minor": 4
}
