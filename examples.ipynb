{
 "cells": [
  {
   "cell_type": "markdown",
   "metadata": {},
   "source": [
    "# Example usage for [`seedir`](https://github.com/earnestt1234/seedir)\n",
    "\n",
    "`seedir` is a Python package for creating, editing, and reading folder tree\n",
    "diagrams.  The following examples will cover what you can do with `seedir`!\n",
    "\n",
    "We can start by importing the package with the `sd` alias:"
   ]
  },
  {
   "cell_type": "code",
   "execution_count": 1,
   "metadata": {},
   "outputs": [],
   "source": [
    "import seedir as sd"
   ]
  },
  {
   "cell_type": "markdown",
   "metadata": {},
   "source": [
    "## Creating folder trees\n",
    "\n",
    "The primary function of `seedir` is to create plain text diagrams of folders, for using in blogs, examples, Q&As, etc.  As an example, we will use the [GitHub directory for `seedir`](https://github.com/earnestt1234/seedir).  The fully exapanded directory looks (approximately!) like so after downloading:\n",
    "\n",
    "![image](img/exampledir.png)\n",
    "\n",
    "### A general folder tree\n",
    "\n",
    "To print out the structure of this folder, we can use the `seedir()` function.  You can either a) set your working directory as the folder you want to print or b) use the `path` argument.  I do the latter here:"
   ]
  },
  {
   "cell_type": "code",
   "execution_count": 2,
   "metadata": {},
   "outputs": [
    {
     "name": "stdout",
     "output_type": "stream",
     "text": [
      "seedir-master/\n",
      "├─.DS_Store\n",
      "├─LICENSE\n",
      "├─tests/\n",
      "│ ├─__init__.py\n",
      "│ └─tests.py\n",
      "├─MANIFEST.in\n",
      "├─pdoc_command.txt\n",
      "├─docs/\n",
      "│ ├─.DS_Store\n",
      "│ └─seedir/\n",
      "│   ├─seedir.html\n",
      "│   ├─index.html\n",
      "│   ├─.DS_Store\n",
      "│   ├─printing.html\n",
      "│   ├─fakedir.html\n",
      "│   └─errors.html\n",
      "├─README.md\n",
      "├─img/\n",
      "│ └─pun.jpg\n",
      "├─setup.py\n",
      "├─.gitignore\n",
      "├─stackoverflow.txt\n",
      "├─seedir/\n",
      "│ ├─.DS_Store\n",
      "│ ├─fakedir.py\n",
      "│ ├─command_line.py\n",
      "│ ├─__init__.py\n",
      "│ ├─seedir.py\n",
      "│ ├─__pycache__/\n",
      "│ │ ├─__init__.cpython-38.pyc\n",
      "│ │ ├─errors.cpython-38.pyc\n",
      "│ │ ├─printing.cpython-38.pyc\n",
      "│ │ ├─fakedir.cpython-38.pyc\n",
      "│ │ └─seedir.cpython-38.pyc\n",
      "│ ├─errors.py\n",
      "│ ├─words.txt\n",
      "│ └─printing.py\n",
      "└─.ipynb_checkpoints/\n",
      "  └─Untitled-checkpoint.ipynb\n"
     ]
    }
   ],
   "source": [
    "path = '/Users/earnestt1234/Downloads/seedir-master' #different for you\n",
    "sd.seedir(path)"
   ]
  },
  {
   "cell_type": "markdown",
   "metadata": {},
   "source": [
    "By default, **the output is printed**.  To return a string instead, use the `printout` argument:"
   ]
  },
  {
   "cell_type": "code",
   "execution_count": 3,
   "metadata": {},
   "outputs": [
    {
     "name": "stdout",
     "output_type": "stream",
     "text": [
      "<class 'str'>\n"
     ]
    }
   ],
   "source": [
    "s = sd.seedir(path, printout=False)\n",
    "print(type(s))"
   ]
  },
  {
   "cell_type": "markdown",
   "metadata": {},
   "source": [
    "## Trimming folder trees\n",
    "\n",
    "The above was a rather long folder tree.  What if we want to limit the amount or types of files or folders that are included?\n",
    "\n",
    "### Including & exlcuding folders & files\n",
    "\n",
    "There are several ways to do this with `seedir()`.  One way is to call out specific folders or files you want to include or exclude.  For example, excluding some folders:"
   ]
  },
  {
   "cell_type": "code",
   "execution_count": 4,
   "metadata": {
    "scrolled": true
   },
   "outputs": [
    {
     "name": "stdout",
     "output_type": "stream",
     "text": [
      "seedir-master/\n",
      "├─.DS_Store\n",
      "├─LICENSE\n",
      "├─MANIFEST.in\n",
      "├─pdoc_command.txt\n",
      "├─README.md\n",
      "├─setup.py\n",
      "├─.gitignore\n",
      "├─stackoverflow.txt\n",
      "├─seedir/\n",
      "│ ├─.DS_Store\n",
      "│ ├─fakedir.py\n",
      "│ ├─command_line.py\n",
      "│ ├─__init__.py\n",
      "│ ├─seedir.py\n",
      "│ ├─errors.py\n",
      "│ ├─words.txt\n",
      "│ └─printing.py\n",
      "└─.ipynb_checkpoints/\n",
      "  └─Untitled-checkpoint.ipynb\n"
     ]
    }
   ],
   "source": [
    "sd.seedir(path, exclude_folders=['docs', 'tests','img','__pycache__'])"
   ]
  },
  {
   "cell_type": "markdown",
   "metadata": {},
   "source": [
    "Or using regular expressions, you can tell `seedir()` to only incude Python files:"
   ]
  },
  {
   "cell_type": "code",
   "execution_count": 5,
   "metadata": {},
   "outputs": [
    {
     "name": "stdout",
     "output_type": "stream",
     "text": [
      "seedir-master/\n",
      "├─tests/\n",
      "│ ├─__init__.py\n",
      "│ └─tests.py\n",
      "├─docs/\n",
      "│ └─seedir/\n",
      "├─img/\n",
      "├─setup.py\n",
      "├─seedir/\n",
      "│ ├─fakedir.py\n",
      "│ ├─command_line.py\n",
      "│ ├─__init__.py\n",
      "│ ├─seedir.py\n",
      "│ ├─__pycache__/\n",
      "│ ├─errors.py\n",
      "│ └─printing.py\n",
      "└─.ipynb_checkpoints/\n"
     ]
    }
   ],
   "source": [
    "sd.seedir(path, include_files='.*\\.py$', regex=True)"
   ]
  },
  {
   "cell_type": "markdown",
   "metadata": {},
   "source": [
    "### Limiting the depth or number of items\n",
    "\n",
    "You can also wholly limit the function by providing the `depthlimit` or `itemlimit` arguments.  Respectively, these arguments limit the depth of folders to enter and the number of items to include per folder.  As `seedir()` uses recursion, these arguments can hedge the traversal of deep, complicated folders:"
   ]
  },
  {
   "cell_type": "code",
   "execution_count": 6,
   "metadata": {},
   "outputs": [
    {
     "name": "stdout",
     "output_type": "stream",
     "text": [
      "seedir-master/\n",
      "├─.DS_Store\n",
      "├─LICENSE\n",
      "├─tests/\n",
      "├─MANIFEST.in\n",
      "├─pdoc_command.txt\n",
      "├─docs/\n",
      "├─README.md\n",
      "├─img/\n",
      "├─setup.py\n",
      "├─.gitignore\n",
      "├─stackoverflow.txt\n",
      "├─seedir/\n",
      "└─.ipynb_checkpoints/\n",
      "\n",
      "\n",
      "seedir-master/\n",
      "├─.DS_Store\n",
      "├─LICENSE\n",
      "├─tests/\n",
      "│ ├─__init__.py\n",
      "│ └─tests.py\n",
      "├─MANIFEST.in\n",
      "└─pdoc_command.txt\n"
     ]
    }
   ],
   "source": [
    "sd.seedir(path, depthlimit=1) # only enter 1 folder\n",
    "print('\\n')\n",
    "sd.seedir(path, itemlimit=5) # only show 5 items per directory"
   ]
  },
  {
   "cell_type": "markdown",
   "metadata": {},
   "source": [
    "When limiting the tree, using the `beyond` argument can be helpful to show what is being cut.  The special value `'content'` shows the number of folders and files:"
   ]
  },
  {
   "cell_type": "code",
   "execution_count": 7,
   "metadata": {},
   "outputs": [
    {
     "name": "stdout",
     "output_type": "stream",
     "text": [
      "seedir-master/\n",
      "├─.DS_Store\n",
      "├─LICENSE\n",
      "├─tests/\n",
      "│ └─0 folder(s), 2 file(s)\n",
      "├─MANIFEST.in\n",
      "├─pdoc_command.txt\n",
      "├─docs/\n",
      "│ └─1 folder(s), 1 file(s)\n",
      "├─README.md\n",
      "├─img/\n",
      "│ └─0 folder(s), 1 file(s)\n",
      "├─setup.py\n",
      "├─.gitignore\n",
      "├─stackoverflow.txt\n",
      "├─seedir/\n",
      "│ └─1 folder(s), 8 file(s)\n",
      "└─.ipynb_checkpoints/\n",
      "  └─0 folder(s), 1 file(s)\n"
     ]
    }
   ],
   "source": [
    "sd.seedir(path, depthlimit=1, beyond='content')"
   ]
  },
  {
   "cell_type": "markdown",
   "metadata": {},
   "source": [
    "### Sorting\n",
    "\n",
    "Especially when using the `itemlimit`, but also generally, you may want to sort the output to determine which items appear first.  You can apply a general sort using `sort=True`:"
   ]
  },
  {
   "cell_type": "code",
   "execution_count": 8,
   "metadata": {},
   "outputs": [
    {
     "name": "stdout",
     "output_type": "stream",
     "text": [
      "seedir-master/\n",
      "├─.DS_Store\n",
      "├─.gitignore\n",
      "├─.ipynb_checkpoints/\n",
      "│ └─Untitled-checkpoint.ipynb\n",
      "├─LICENSE\n",
      "└─MANIFEST.in\n"
     ]
    }
   ],
   "source": [
    "sd.seedir(path, itemlimit=5, sort=True)"
   ]
  },
  {
   "cell_type": "markdown",
   "metadata": {},
   "source": [
    "There are additional reverse and key arguments (akin to `sorted()` or `list.sort()`) which allow you to customize the sorting:"
   ]
  },
  {
   "cell_type": "code",
   "execution_count": 9,
   "metadata": {},
   "outputs": [
    {
     "name": "stdout",
     "output_type": "stream",
     "text": [
      "seedir-master/\n",
      "├─img/\n",
      "│ └─pun.jpg\n",
      "├─docs/\n",
      "│ ├─seedir/\n",
      "│ │ ├─.DS_Store\n",
      "│ │ ├─index.html\n",
      "│ │ ├─seedir.html\n",
      "│ │ ├─errors.html\n",
      "│ │ └─fakedir.html\n",
      "│ └─.DS_Store\n",
      "├─tests/\n",
      "│ ├─tests.py\n",
      "│ └─__init__.py\n",
      "├─seedir/\n",
      "│ ├─.DS_Store\n",
      "│ ├─seedir.py\n",
      "│ ├─errors.py\n",
      "│ ├─words.txt\n",
      "│ └─fakedir.py\n",
      "└─LICENSE\n"
     ]
    }
   ],
   "source": [
    "sd.seedir(path, itemlimit=5, sort=True, sort_reverse=False, sort_key=lambda s : len(s)) #shortest names first"
   ]
  },
  {
   "cell_type": "markdown",
   "metadata": {},
   "source": [
    "You can also select folders or files to appear first:"
   ]
  },
  {
   "cell_type": "code",
   "execution_count": 10,
   "metadata": {},
   "outputs": [
    {
     "name": "stdout",
     "output_type": "stream",
     "text": [
      "seedir-master/\n",
      "├─.ipynb_checkpoints/\n",
      "│ └─Untitled-checkpoint.ipynb\n",
      "├─docs/\n",
      "│ └─seedir/\n",
      "│   ├─errors.html\n",
      "│   ├─fakedir.html\n",
      "│   ├─index.html\n",
      "│   ├─printing.html\n",
      "│   └─seedir.html\n",
      "├─img/\n",
      "│ └─pun.jpg\n",
      "├─seedir/\n",
      "│ ├─__pycache__/\n",
      "│ │ ├─__init__.cpython-38.pyc\n",
      "│ │ ├─errors.cpython-38.pyc\n",
      "│ │ ├─fakedir.cpython-38.pyc\n",
      "│ │ ├─printing.cpython-38.pyc\n",
      "│ │ └─seedir.cpython-38.pyc\n",
      "│ ├─__init__.py\n",
      "│ ├─command_line.py\n",
      "│ ├─errors.py\n",
      "│ ├─fakedir.py\n",
      "│ ├─printing.py\n",
      "│ └─seedir.py\n",
      "├─tests/\n",
      "│ ├─__init__.py\n",
      "│ └─tests.py\n",
      "├─LICENSE\n",
      "└─MANIFEST.in\n"
     ]
    }
   ],
   "source": [
    "sd.seedir(path, itemlimit=7, first='folders', sort=True, exclude_files='^\\..*', regex=True)\n",
    "# excluded files starting with a period"
   ]
  },
  {
   "cell_type": "markdown",
   "metadata": {},
   "source": [
    "### Styles 💅\n",
    "\n",
    "`seedir` has a few builtin styles for formatting the output of the folder tree.  See the documentation for the current options:"
   ]
  },
  {
   "cell_type": "code",
   "execution_count": 11,
   "metadata": {},
   "outputs": [
    {
     "name": "stdout",
     "output_type": "stream",
     "text": [
      "📁 seedir-master/\n",
      "├─📄 .DS_Store\n",
      "├─📄 LICENSE\n",
      "├─📁 tests/\n",
      "│ ├─📄 __init__.py\n",
      "│ └─📄 tests.py\n",
      "├─📄 MANIFEST.in\n",
      "└─📄 pdoc_command.txt\n"
     ]
    }
   ],
   "source": [
    "sd.seedir(path, itemlimit=5, style='emoji')"
   ]
  },
  {
   "cell_type": "markdown",
   "metadata": {},
   "source": [
    "For any builtin style, you can customize the indent size:"
   ]
  },
  {
   "cell_type": "code",
   "execution_count": 12,
   "metadata": {},
   "outputs": [
    {
     "name": "stdout",
     "output_type": "stream",
     "text": [
      "seedir-master/\n",
      " .DS_Store\n",
      " LICENSE\n",
      " tests/\n",
      "  __init__.py\n",
      "  tests.py\n",
      " MANIFEST.in\n",
      " pdoc_command.txt\n",
      "\n",
      "\n",
      "seedir-master/\n",
      "+---.DS_Store\n",
      "+---LICENSE\n",
      "+---tests/\n",
      "|   +---__init__.py\n",
      "|   +---tests.py\n",
      "+---MANIFEST.in\n",
      "+---pdoc_command.txt\n"
     ]
    }
   ],
   "source": [
    "sd.seedir(path, indent=1, itemlimit=5, style='spaces')\n",
    "print('\\n')\n",
    "sd.seedir(path, indent=4, itemlimit=5, style='plus')"
   ]
  },
  {
   "cell_type": "markdown",
   "metadata": {},
   "source": [
    "Each style is basically a collection of string \"tokens\" which are combined to form the header of each printed line (based on the depth and folder structure).  You can see these tokens using `seedir.get_styleargs()`:"
   ]
  },
  {
   "cell_type": "code",
   "execution_count": 13,
   "metadata": {},
   "outputs": [
    {
     "data": {
      "text/plain": [
       "{'split': '├─',\n",
       " 'extend': '│ ',\n",
       " 'space': '  ',\n",
       " 'final': '└─',\n",
       " 'folderstart': '📁 ',\n",
       " 'filestart': '📄 '}"
      ]
     },
     "execution_count": 13,
     "metadata": {},
     "output_type": "execute_result"
    }
   ],
   "source": [
    "sd.get_styleargs('emoji')"
   ]
  },
  {
   "cell_type": "markdown",
   "metadata": {},
   "source": [
    "You can pass any of these tokens as `**kwargs` to explicitly customize styles with new symbols (note that passed tokens will not be affected by the `indent` parameter; it assumes you know how long you want them to be!):"
   ]
  },
  {
   "cell_type": "code",
   "execution_count": 16,
   "metadata": {},
   "outputs": [
    {
     "name": "stdout",
     "output_type": "stream",
     "text": [
      "seedir-master/\n",
      "-} .DS_Store\n",
      "-} LICENSE\n",
      "-} tests/\n",
      "||-} __init__.py\n",
      "||\\\\ tests.py\n",
      "-} MANIFEST.in\n",
      "-} pdoc_command.txt\n",
      "-} docs/\n",
      "||-} .DS_Store\n",
      "||\\\\ seedir/\n",
      "||  -} seedir.html\n",
      "||  -} index.html\n",
      "||  -} .DS_Store\n",
      "||  -} printing.html\n",
      "||  -} fakedir.html\n",
      "||  \\\\ errors.html\n",
      "\\\\ README.md\n"
     ]
    }
   ],
   "source": [
    "sd.seedir(path, itemlimit=7, space='  ', extend='||', split='-}', final='\\\\\\\\', folderstart=' ', filestart=' ')"
   ]
  },
  {
   "cell_type": "markdown",
   "metadata": {},
   "source": [
    "There are also `uniform` and `anystart` arguments for customizing multiple tokens at once:"
   ]
  },
  {
   "cell_type": "code",
   "execution_count": 15,
   "metadata": {},
   "outputs": [
    {
     "name": "stdout",
     "output_type": "stream",
     "text": [
      ">seedir-master/\n",
      "---->.DS_Store\n",
      "---->LICENSE\n",
      "---->tests/\n",
      "-------->__init__.py\n",
      "-------->tests.py\n",
      "---->MANIFEST.in\n",
      "---->pdoc_command.txt\n",
      "---->docs/\n",
      "-------->.DS_Store\n",
      "-------->seedir/\n",
      "------------>seedir.html\n",
      "------------>index.html\n",
      "------------>.DS_Store\n",
      "------------>printing.html\n",
      "------------>fakedir.html\n",
      "------------>errors.html\n",
      "---->README.md\n"
     ]
    }
   ],
   "source": [
    "sd.seedir(path, itemlimit=7, uniform='----', anystart='>')"
   ]
  }
 ],
 "metadata": {
  "kernelspec": {
   "display_name": "Python 3",
   "language": "python",
   "name": "python3"
  },
  "language_info": {
   "codemirror_mode": {
    "name": "ipython",
    "version": 3
   },
   "file_extension": ".py",
   "mimetype": "text/x-python",
   "name": "python",
   "nbconvert_exporter": "python",
   "pygments_lexer": "ipython3",
   "version": "3.8.3"
  }
 },
 "nbformat": 4,
 "nbformat_minor": 4
}
